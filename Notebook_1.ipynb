{
 "cells": [
  {
   "cell_type": "markdown",
   "metadata": {
    "id": "l0gnjlpXI0V9"
   },
   "source": [
    "# Math 267\n",
    "\n",
    "## Congratulations on finding and successfully launching this colab notebook. "
   ]
  },
  {
   "cell_type": "markdown",
   "metadata": {
    "id": "XU367i2yteAj"
   },
   "source": [
    "Colaboratory, or “Colab” for short, is a product from Google Research. Colab allows anybody to write and execute arbitrary python code through the browser, and is especially well suited to machine learning, data analysis and education. More technically, Colab is a hosted Jupyter notebook service that requires no setup to use, while providing free access to computing resources including GPUs."
   ]
  },
  {
   "cell_type": "markdown",
   "metadata": {
    "id": "JyG45Qk3qQLS"
   },
   "source": [
    "# Cells\n",
    "A notebook is a list of cells. There are two types of cells.  Code cells for executable python code and text cells for explanatory text. You hover your mouse over and click a cell to select it."
   ]
  },
  {
   "cell_type": "markdown",
   "metadata": {
    "id": "h_lhFJNVfP-4"
   },
   "source": [
    "To execute a cell you can either click the arrow to the left (that appears when you hover over the cell) or type \"shift enter\" after you have selected the cell."
   ]
  },
  {
   "cell_type": "markdown",
   "metadata": {
    "id": "RBjKWPWWf0lB"
   },
   "source": [
    "Try it.  Select and execute the cell below.  Confirm the that message \"Hello World\" prints out."
   ]
  },
  {
   "cell_type": "code",
   "execution_count": null,
   "metadata": {
    "id": "VP6gToS4XQDP"
   },
   "outputs": [],
   "source": [
    "print(\"Hello World\")"
   ]
  },
  {
   "cell_type": "markdown",
   "metadata": {
    "id": "hN8W1iG3uyEI"
   },
   "source": [
    "To insert a code or text cell in the current location press either the +Code or +Text in the menue near the top of this page.  Go ahead and create a code cell. Once created type 2+3 in the cell and type shift enter.  You should see the result displayed under the cell. If you hover your mouse just below this line you should see a +Code and +Text.  You can click in the +Code to insert a code cell at this location."
   ]
  },
  {
   "cell_type": "markdown",
   "metadata": {},
   "source": [
    "# Execute the cell below to create a simple plot. \n",
    "\n",
    "1. Modify the code so the title of the plot reads \"Simple Plot by \"Your Name\"'\n",
    "2. Follow the instructions on the video tutorial to save this plot as a pdf to your computer.  You will upload this plot to gradescope.\n",
    "\n",
    "Use this instruction to save the plot.\n",
    "\n",
    "```python\n",
    "plt.savefig(\"plot.pdf\")\n",
    "\n",
    "```\n",
    "<br/>\n",
    "\n"
   ]
  },
  {
   "cell_type": "code",
   "execution_count": null,
   "metadata": {
    "id": "q1DkFN4N1sG4"
   },
   "outputs": [],
   "source": [
    "import matplotlib.pyplot as plt\n",
    "import numpy as np\n",
    "x = np.arange(0,1,.1)\n",
    "plt.plot(x,x**2)\n",
    "plt.grid()\n",
    "plt.title(\"Simple Plot by Robert Martin\");\n",
    "\n",
    "# insert you save command here.\n"
   ]
  },
  {
   "cell_type": "markdown",
   "metadata": {
    "id": "hU-En5pVvsWt"
   },
   "source": [
    "# Finally to see the secret message execute the code cell below."
   ]
  },
  {
   "cell_type": "code",
   "execution_count": null,
   "metadata": {
    "id": "QqW-2Y22v5AM"
   },
   "outputs": [],
   "source": [
    "import base64\n",
    "base64.b64decode(b'VGhlIHNlY3JldCBtZXNzYWdlIGlzICdHTyBOQVRJT05BTFMn').decode()"
   ]
  },
  {
   "cell_type": "markdown",
   "metadata": {
    "id": "N0D9KRIqw-96"
   },
   "source": [
    "We will be using the python programming language for our course projects.  No previous experience with python is assumed.  You will need to watch the YouTube video below.\n",
    "\n",
    "[Click here for Colab and Python tutorial](https://www.youtube.com/watch?v=vVufibT3_z8)"
   ]
  },
  {
   "cell_type": "markdown",
   "metadata": {
    "id": "MGvOiqeC41uN"
   },
   "source": [
    "To save a copy of this notebook in your Google drive, select \"Save a copy in Drive\" from the file menu above."
   ]
  },
  {
   "cell_type": "code",
   "execution_count": null,
   "metadata": {},
   "outputs": [],
   "source": []
  }
 ],
 "metadata": {
  "colab": {
   "collapsed_sections": [],
   "name": "Notebook_1",
   "private_outputs": true,
   "provenance": [
    {
     "file_id": "1FAmK0E-YdVnSZkfzOoNSqyiS9O7H6AFG",
     "timestamp": 1626227758132
    },
    {
     "file_id": "/v2/external/notebooks/basic_features_overview.ipynb",
     "timestamp": 1624808512355
    }
   ]
  },
  "kernelspec": {
   "display_name": "Python 3 (ipykernel)",
   "language": "python",
   "name": "python3"
  },
  "language_info": {
   "codemirror_mode": {
    "name": "ipython",
    "version": 3
   },
   "file_extension": ".py",
   "mimetype": "text/x-python",
   "name": "python",
   "nbconvert_exporter": "python",
   "pygments_lexer": "ipython3",
   "version": "3.9.11"
  }
 },
 "nbformat": 4,
 "nbformat_minor": 4
}
