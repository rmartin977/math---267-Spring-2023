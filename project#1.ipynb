{
 "cells": [
  {
   "cell_type": "markdown",
   "id": "d74f86a2-6358-4d76-8c1d-6f8485e17691",
   "metadata": {},
   "source": [
    "<h1 style='font-size:4rem;color:orange;'>Math 267 Project #1a"
   ]
  },
  {
   "cell_type": "markdown",
   "id": "08ae9337-d231-4a96-ae37-fa37e3bbaf01",
   "metadata": {
    "id": "2f7c49dc-b818-455d-ac33-42e0e86458c0"
   },
   "source": [
    "<hr>\n",
    "\n",
    "In this jupyter/colab notebook we will show how to implement Euler's method using the python programming language. The emphasis will be more on code readability than efficiency.\n"
   ]
  },
  {
   "cell_type": "markdown",
   "id": "27f59ede-d90f-422b-b169-2c2b092fc181",
   "metadata": {
    "id": "9fd8de00-3d6f-40e1-8188-07bccea51963"
   },
   "source": [
    "If you have any difficulty you can share your notebook with me at   rm908@email.vccs.edu. Send me an email informing me you have shared the notebook and where you problem is.\n"
   ]
  },
  {
   "cell_type": "markdown",
   "id": "5f57cb7a-395a-40e7-8c5f-e2bb328f4a5b",
   "metadata": {
    "tags": []
   },
   "source": [
    "# Euler's Method\n",
    "\n",
    "The ability to obtain a formulaic solution for an ODE is the exception rather than the rule. The majority\n",
    "of the time we resort to finding a “numerical solution” where the time axis is discretized. The numerical\n",
    "solution will yield a list of points {(t0, y0), (t1, y2), (t3, y3), (t4, y4) ... ....} which ideally lie along the solution\n",
    "curve. Please consult section 2.6 in the text  for further details on  Euler’s method.\n",
    "\n",
    "Now to solve the initial value problem:\n",
    "\n",
    "$$y'=f(t,y)$$\n",
    "$$y(t_0)=y_0$$\n",
    "\n",
    "using Euler's method we simply iterate the following:\n",
    "\n",
    "$$t_{n+1} = t_n + \\Delta t$$\n",
    "$$y_{n+1} = y_n + f(t_n,y_n)\\cdot \\Delta t$$\n",
    "\n",
    "where $\\Delta t$ is the \"step size\". We often use the letter \"h\" to represent the step size. Also recall that $f(t,y)$ is the \"slope field\" for the differential equation. Also note for this example that the letter \"y\" is being used to represent the dependent variable and \"t\" for the indepentent varialbe."
   ]
  },
  {
   "cell_type": "markdown",
   "id": "2f41e0c4-6749-4812-a269-0ed273d24535",
   "metadata": {},
   "source": [
    "## Exercise #1\n",
    "\n",
    "### For our first exercise we use Euler's method to solve the following initial value problem.\n",
    "\n",
    "$$y' = -y +t$$\n",
    "$$y(0) = 0.5$$\n",
    "\n",
    "### Solve on interval $[0,1.2]$ and use h = 0.1.\n"
   ]
  },
  {
   "cell_type": "markdown",
   "id": "4e951a90-8257-4799-b62b-9bf320219db1",
   "metadata": {
    "tags": []
   },
   "source": [
    "Execute the cell below to load necessary libraries."
   ]
  },
  {
   "cell_type": "code",
   "execution_count": null,
   "id": "f52331cb-8777-4d71-b19e-b0e890ccf61a",
   "metadata": {},
   "outputs": [],
   "source": [
    "# import libraries\n",
    "\n",
    "import numpy as np\n",
    "import pandas as pd\n",
    "import matplotlib.pyplot as plt\n",
    "%config InlineBackend.figure_format ='retina'"
   ]
  },
  {
   "cell_type": "markdown",
   "id": "38e9983e-6752-4225-a966-a8eac52b45ca",
   "metadata": {},
   "source": [
    "### The python code to numerically solve the above ode is in the cell below. Hopefully this code looks familiar from our in class lecture on Euler's method.  Read and make sure you understand the code.  If you need help on any python command just enter\n",
    "\n",
    "```python\n",
    "? <command name>\n",
    "```\n",
    "### in an empty cell.\n",
    "\n",
    "Execute the cell below."
   ]
  },
  {
   "cell_type": "code",
   "execution_count": null,
   "id": "62012841-ba51-4f32-9083-0e1308bc1664",
   "metadata": {},
   "outputs": [],
   "source": [
    "# define slope function\n",
    "\n",
    "def f(t,y):\n",
    "    return -y + t\n",
    "\n",
    "h = 0.1\n",
    "\n",
    "# We first \"discretize\" the domain.  The array t holds the t values\n",
    "\n",
    "t = np.arange(0,1.3,h) \n",
    "y_euler = np.zeros_like(t)  # initialize y array to zeros\n",
    "y_euler[0] = 0.5 # set the intial value\n",
    "\n",
    "# implement Euler's method\n",
    "\n",
    "for i in range(len(y_euler)-1):\n",
    "    y_euler[i+1] = y_euler[i] + f(t[i],y_euler[i])* h\n",
    "    "
   ]
  },
  {
   "cell_type": "markdown",
   "id": "ee76fb6a-94fe-4e67-902b-ed6b3144da44",
   "metadata": {},
   "source": [
    "## Visualize results\n",
    "### To visualize the results in table form execute the following cell. It is not necessary to understand the python code below that generates the table."
   ]
  },
  {
   "cell_type": "code",
   "execution_count": null,
   "id": "83a57db4-beb6-4b04-bee2-1a5e67af480d",
   "metadata": {},
   "outputs": [],
   "source": [
    "# the exact solution of the ode is defined by the function below\n",
    "\n",
    "def y_e(t):\n",
    "    return 1.5*np.exp(-t)-1+t\n",
    "\n",
    "y_exact = y_e(t) # compute exact values\n",
    "\n",
    "# Now display results in a table\n",
    "\n",
    "df = pd.DataFrame({\"t\":t,\"y_exact\":y_exact,\"y_Euler\":y_euler})\n",
    "df"
   ]
  },
  {
   "cell_type": "markdown",
   "id": "f77807c8-4f14-4924-a488-d7b2f70af43a",
   "metadata": {},
   "source": [
    "### To compute percent error for our results we use the formula:\n",
    "\n",
    "$$ \\frac{(y_{exact} - y_{euler})}{y_{exact}}\\times100\\%  $$\n",
    "\n",
    "### Execute the following cell to compute and display the percent error in approximating $y(1)$ for the previous example. Your answer should be about 1.6%."
   ]
  },
  {
   "cell_type": "code",
   "execution_count": null,
   "id": "0690b04f-fbb4-47b1-8500-35612ed9f470",
   "metadata": {},
   "outputs": [],
   "source": [
    "# For the above ode the % difference when computing y(1) is:\n",
    "error = np.abs(y_exact[1]-y_euler[1])/y_exact[1]*100\n",
    "print(f\"The error is {round(error,2)}%.\")"
   ]
  },
  {
   "cell_type": "markdown",
   "id": "d30b4d8d-fc94-449f-8216-cceaf741a652",
   "metadata": {},
   "source": [
    "## Exercise 1.a\n",
    "\n",
    "### One way to improve the result is by decreasing the value of h. Go back and reexecute the code in the previous cells  with h changed to 0.05. Compute the percent error for y(1) and make a record of your result. "
   ]
  },
  {
   "cell_type": "markdown",
   "id": "d6a4d73a-a3f2-4d38-8008-12f77559185a",
   "metadata": {},
   "source": [
    "### Now reset the value of h back to h=0.1 and reexecute the cells so we can graph our results."
   ]
  },
  {
   "cell_type": "markdown",
   "id": "00f361b3-f17c-45d6-9e94-30de1e04f828",
   "metadata": {},
   "source": [
    "## Plot the results\n",
    "### The code in the cell below will make a plot of the exact and approximate solutions. Execute the cell below to see the plot."
   ]
  },
  {
   "cell_type": "code",
   "execution_count": null,
   "id": "05bb58c4-6706-4e17-b80d-208fd8f1ec96",
   "metadata": {},
   "outputs": [],
   "source": [
    "plt.figure(figsize=(8,6))\n",
    "plt.plot(t,y_euler,'.')\n",
    "plt.plot(t,y_euler,label='approx')\n",
    "\n",
    "plt.plot(t,y_exact,label='exact')\n",
    "plt.legend();\n",
    "plt.grid()\n",
    "plt.xlabel(\"t\")\n",
    "plt.ylabel(\"y\")\n",
    "plt.title(\"Euler's Method\");\n",
    "\n",
    "# To save a copy of the plot to a file uncomment the following. To uncomment just remove the hashtag.  Note you must have your drive mounted.\n",
    "#plt.savefig(\"euler.png\",dpi=300)"
   ]
  },
  {
   "cell_type": "markdown",
   "id": "56cb2969-2f02-4682-a874-c9149eb873b7",
   "metadata": {},
   "source": [
    "# Improved Euler's Method"
   ]
  },
  {
   "cell_type": "markdown",
   "id": "908eb0ba-6ece-4178-a1c5-b0a46200b0d0",
   "metadata": {},
   "source": [
    "Euler’s method, while nice in its simplicity, is too inaccurate and slow for practical use. Euler’s method predicts the next point $(t_{n+1},y_{n+1})$ on the solution curve by computing the slope $f (t, y)$ of the solution curve at the point $(t_n,y_n)$, this is determined by evaluating the slope field at that point -- slope =\n",
    "$f(t_n, y_n)$.\n",
    "The improved Euler’s method predicts the next point by computing two slopes and using their average as our final slope value. The two slopes computed are\n",
    "slope1 = $f (t_n, y_n)$ and slope2 = $f (t_{n+1}, y^*_{n+1})$ . Thus we first need to predict the next value $y^*_{n+1}$ using the\n",
    "standard Euler procedure. Next slope2, the estimation of the slope at the end point of the interval $[t_n, t_{n+1}]$ is computed. Finally we compute our ultimate estimation for the slope by taking the average of the two: slope = (f (tn, yn) + f (tn+1, y*n+1) / 2. This slope then is used to determine the next point in our solution$(t_{n+1}, y_{n+1})$ and the steps are repeated. Got that?"
   ]
  },
  {
   "cell_type": "markdown",
   "id": "84e0a7b9-6920-4375-8dd5-e26780f6c7a9",
   "metadata": {},
   "source": [
    "The iteration formulas for the improved Euler's method are thus given by:\n",
    "\n",
    "$$t_{n+1} = t_n + \\Delta t$$\n",
    "\n",
    "$$y_{n+1} = y_n + \\frac{(f(t_n,y_n)+f(t_{n+1},y^*_{n+1}))}{2}\\cdot \\Delta t$$\n",
    "\n",
    "where\n",
    "$$y^*_{n+1} = y_n +f(t_n,y_n)\\cdot \\Delta t$$\n",
    "\n",
    "\n"
   ]
  },
  {
   "cell_type": "markdown",
   "id": "9fd41766-9424-4137-b325-91271910e7a8",
   "metadata": {},
   "source": [
    "## Exercise #2\n",
    "\n",
    "### For our second exercise we will use  the impoved Euler's method to solve the following initial value problem.\n",
    "\n",
    "$$y' = -y +t$$\n",
    "$$y(0) = 0.5$$\n",
    "\n",
    "### Solve on interval $[0,1.2]$ and use h = 0.1.\n",
    "\n",
    "\n",
    "<hr>"
   ]
  },
  {
   "cell_type": "markdown",
   "id": "ddc7696e-0890-47bc-98d6-788a79f9d188",
   "metadata": {},
   "source": [
    "The suggested algorithm for implementing the improved Euler method is:\n",
    "\n",
    "1. Define the slope function.\n",
    "2. Set the value of h.\n",
    "3. Intialize the array of time values. We call the array \"t\".\n",
    "4. Intialize the y_improved array to zeros.\n",
    "5. Set the initial condition for y_improved.\n",
    "6. Repeat the following:<br>\n",
    "    Compute slope1 using slope1=$f(t_n,y_n)$<br>\n",
    "    Compute $y^*_{n+1}$<br>\n",
    "    Compute slope2 using slope2=$f(t_{n+1},y^*_{n+1})$<br>\n",
    "    Define slope = (slope1+slope2)/2<br>\n",
    "    Compute $y_{n+1}=y_n+\\text{slope} \\cdot h$\n",
    "<hr>"
   ]
  },
  {
   "cell_type": "markdown",
   "id": "ceb96957-8098-4256-bb04-4b98bb481c26",
   "metadata": {},
   "source": [
    "## Exercise 2.a\n"
   ]
  },
  {
   "cell_type": "markdown",
   "id": "73b8328b-92d0-4973-add8-1065ef55a981",
   "metadata": {},
   "source": [
    "### The code that implements Euler's method is copied in the cell below.  Edit this code to implement the improved Euler's method. Note you need to rename the variable y_euler to y_improved."
   ]
  },
  {
   "cell_type": "code",
   "execution_count": null,
   "id": "b9977a0a-3a2c-4e21-99e0-6c4065423268",
   "metadata": {},
   "outputs": [],
   "source": [
    "# define slope function\n",
    "\n",
    "def f(t,y):\n",
    "    return -y + t\n",
    "\n",
    "h = 0.1\n",
    "\n",
    "# We first \"discretize\" the domain.  The array t holds the t values\n",
    "\n",
    "t = np.arange(0,1.3,h) \n",
    "y_euler = np.zeros_like(t)  # initialize y array to zeros\n",
    "y_euler[0] = 0.5 # set the intial value\n",
    "\n",
    "# implement Euler's method\n",
    "\n",
    "for i in range(len(y_euler)-1):\n",
    "    y_euler[i+1] = y_euler[i] + f(t[i],y_euler[i])* h\n",
    "    "
   ]
  },
  {
   "cell_type": "markdown",
   "id": "05aa7435-358e-4979-895b-20a538225156",
   "metadata": {},
   "source": [
    "### Now let us see the results in table form.  Uncomment and execute the cell below. Remove hashtags to uncomment a line."
   ]
  },
  {
   "cell_type": "code",
   "execution_count": null,
   "id": "c2f28755-816a-4a50-bc14-f4b0a3af7fe0",
   "metadata": {},
   "outputs": [],
   "source": [
    "#df = pd.DataFrame({\"t\":t,\"y_exact\":y_exact,\"y_Euler\":y_euler,\"y_Impoved\":y_improved});\n",
    "#df"
   ]
  },
  {
   "cell_type": "markdown",
   "id": "bda239c4-3374-40ac-8c0a-f9d4f4324d80",
   "metadata": {
    "tags": []
   },
   "source": [
    "### Let us now compute the percent error for $y(1)$.  Uncomment the cell below and execute. Hint: your answer should be less that $0.1$%. This result will be entered into gradescope."
   ]
  },
  {
   "cell_type": "code",
   "execution_count": null,
   "id": "2557e298-e28c-4f62-8775-ee82793e9bc3",
   "metadata": {},
   "outputs": [],
   "source": [
    "#error = np.abs(y_exact[1]-y_improved[1])/y_exact[1]*100\n",
    "#print(f\"Using the improved Euler method the percent error is {round(error,2)}%.\")\n"
   ]
  },
  {
   "cell_type": "markdown",
   "id": "c975a39d-c793-4fc0-9705-57e6ded1f1a2",
   "metadata": {
    "id": "95cee1d7-dd8a-4517-9d44-48b9c6e9f0d6"
   },
   "source": [
    "<h4> Execute the cell below to see a plot of the comparison between y_exact and y_improved. Look closely the curves could lie on top of one another. Save this plot to be uploaded to gradescope. Change the title to read \"Improved Euler's Method by your name\"."
   ]
  },
  {
   "cell_type": "code",
   "execution_count": null,
   "id": "024c1b2a-32c2-46fa-b032-731353790493",
   "metadata": {
    "id": "d700b2d3-f1c4-42bf-8cc7-1bcf057507a7"
   },
   "outputs": [],
   "source": [
    "plt.figure(figsize=(8,6))\n",
    "plt.plot(t,y_improved,'.')\n",
    "plt.plot(t,y_improved,label='improved')\n",
    "\n",
    "plt.plot(t,y_exact,label='exact')\n",
    "plt.legend();\n",
    "plt.grid()\n",
    "plt.xlabel(\"t\")\n",
    "plt.ylabel(\"y\")\n",
    "plt.title(\"Improved Euler's Method\");\n",
    "\n",
    "# To save a copy of the plot to a file uncomment the following.  Note you must have your drive mounted.\n",
    "#plt.savefig(\"euler.png\",dpi=300)"
   ]
  },
  {
   "cell_type": "markdown",
   "id": "f4d19812-8fee-427e-9180-c5428806f503",
   "metadata": {
    "id": "8ae175fb-31e1-45b3-bff0-697df1cf7986"
   },
   "source": [
    "<hr>\n",
    "\n",
    "## Exercise #3\n",
    "\n",
    "For the final exercise you are to use the improved Euler’s method to obtain the approximate value of y(1.5) for the solution of the initial value problem\n",
    "\n",
    "$$y ' = 2 xy, y(1) = 1$$\n",
    "\n",
    "Use h = 0.1. Analytically compute the exact value and compute the percent error.\n"
   ]
  },
  {
   "cell_type": "code",
   "execution_count": null,
   "id": "cfec57c3-21af-4725-9c23-a97dffc1461a",
   "metadata": {
    "id": "9ff084c0-5a0b-45b8-8b10-065f7f3e58d9"
   },
   "outputs": [],
   "source": [
    "# In this cell enter the necessary code to compute y(1.5) using the improved Euler's method. Hint: copy your previous code to this cell and edit it\n",
    "# accordingly\n",
    "\n",
    "\n",
    "\n"
   ]
  },
  {
   "cell_type": "markdown",
   "id": "d451c6cf-a60c-48f4-b6cb-bd3f902fdb63",
   "metadata": {
    "id": "5ddc0ead-3082-49cf-af2a-e0a92e17d29d"
   },
   "source": [
    "### Next solve the ode and determine the value y(1.5)\n",
    "This step is not done using python.  Here you have to solve the ode.  Note this equation is separable."
   ]
  },
  {
   "cell_type": "code",
   "execution_count": null,
   "id": "61f4899e-d94a-4557-ac77-9cf8f629ec21",
   "metadata": {
    "id": "45ab86c5-1eec-4bee-96e6-88da1308a27e"
   },
   "outputs": [],
   "source": [
    "# Enter the necessary code in this cell to compute the percent error and display the % error for the previous problem.  Copy and edit the code\n",
    "# used earlier\n",
    "\n",
    "\n",
    "\n",
    "\n",
    "\n",
    "\n"
   ]
  },
  {
   "cell_type": "markdown",
   "id": "021b193b-5756-459a-add3-ba87212234f4",
   "metadata": {},
   "source": [
    "### Go to gradescope and answer the questions."
   ]
  }
 ],
 "metadata": {
  "kernelspec": {
   "display_name": "Python 3 (ipykernel)",
   "language": "python",
   "name": "python3"
  },
  "language_info": {
   "codemirror_mode": {
    "name": "ipython",
    "version": 3
   },
   "file_extension": ".py",
   "mimetype": "text/x-python",
   "name": "python",
   "nbconvert_exporter": "python",
   "pygments_lexer": "ipython3",
   "version": "3.9.11"
  }
 },
 "nbformat": 4,
 "nbformat_minor": 5
}
