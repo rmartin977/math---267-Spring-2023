{
 "cells": [
  {
   "cell_type": "markdown",
   "id": "186f3a30-f224-4355-b6ba-0a03429fdccd",
   "metadata": {
    "tags": []
   },
   "source": [
    "<h1 style='font-size:4rem;color:red;'>Math 267 Project #3"
   ]
  },
  {
   "cell_type": "markdown",
   "id": "b2f0a005-57bf-4740-842b-ed022c7f69eb",
   "metadata": {
    "tags": []
   },
   "source": [
    "---\n",
    "\n",
    "Name ________________________.    Student ID ____________________.  Enter your name and studet ID in this cell.\n",
    "\n",
    "---"
   ]
  },
  {
   "cell_type": "markdown",
   "id": "a2a60c77-75be-405e-9ee3-37e24cb4b854",
   "metadata": {},
   "source": [
    "# Spring mass system.\n"
   ]
  },
  {
   "cell_type": "markdown",
   "id": "ff6dbddc-9763-4f2b-8d92-f4cf2035be15",
   "metadata": {},
   "source": [
    "The second order equation of an unforced spring/mass system with mass m, damping constant b and spring constant k is given by:<p>\n",
    "$$ mx''(t) + bx'(t) +kx(t) = 0. $$\n",
    "    \n",
    "    \n",
    "Recall that $x(t)$ represents the displacement of the mass from its resting position ( with x>0 the spring is stretched and x<0 the spring is compressed). Therefore the velocity of the moving mass is $ x'(t)$ and the acceleration is $x’’(t)$. To approximate the solution for this system using Euler’s method we convert the equation into a system by introducing the variable\n",
    "                                                                                                                                \n",
    " $$ y = x’.$$\n",
    "                                                                                                                                \n",
    "So our two unknowns are: $x$ for the position of the mass and $y$ for the velocity of the mass. As a system the second order equation becomes ( using m = 1)\n",
    "  \n",
    "\\begin{align}\n",
    "x'(t) &=  \\; y(t) \\\\\n",
    "y'(t) &= -k \\cdot x(t) - b \\cdot y(t)\n",
    "\\end{align}                                                                                                                        \n",
    "\n",
    "                                                                                                 \n",
    "and unlike the Predator-Prey model of exercise 2. this system is linear and can be represented in matrix notation:\n",
    "                                                                                                                                \n",
    "                                                                                                                                \n",
    "\\begin{align}\n",
    "        \\begin{pmatrix}\n",
    "        x'(t) \\\\\n",
    "        y'(t) \n",
    "        \\end{pmatrix}=       \n",
    "        \\begin{pmatrix}\n",
    "        0 & 1 \\\\\n",
    "        -k & -b \n",
    "        \\end{pmatrix}\\cdot\n",
    "        \\begin{pmatrix}\n",
    "        x(t) \\\\\n",
    "        y(t) \n",
    "        \\end{pmatrix}\n",
    "    \\end{align}\n",
    "                                                                                                                                \n",
    "                                                                                                                                \n",
    "   ---"
   ]
  },
  {
   "cell_type": "markdown",
   "id": "382f504e-ea33-4a49-8296-9e8ab73cc8ba",
   "metadata": {},
   "source": [
    "### Collaboration.  Students are allowed to work together on this project. Colaboration is encouraged. \n",
    " However you final submission must be your own work.\n",
    "  \n",
    "<img src = \"https://github.com/rmartin977/math---267-Spring-2022/blob/main/Euclid.png?raw=true\"  style = \"width:500px;height:500px\" class=\"center\">"
   ]
  },
  {
   "cell_type": "markdown",
   "id": "e3b53e36-ef07-4a68-ac8e-a31dc71223f7",
   "metadata": {},
   "source": [
    "### Run the cell below to import the necessary libraries."
   ]
  },
  {
   "cell_type": "code",
   "execution_count": 1,
   "id": "79d0bef9-d76f-4d04-b4e8-2345e7243467",
   "metadata": {
    "id": "f52331cb-8777-4d71-b19e-b0e890ccf61a"
   },
   "outputs": [],
   "source": [
    "# import libraries\n",
    "\n",
    "import numpy as np\n",
    "import matplotlib.pyplot as plt\n",
    "from IPython.display import Image\n",
    "\n",
    "# uncomment the line below if you are running a macbook\n",
    "#%config InlineBackend.figure_format ='retina'"
   ]
  },
  {
   "cell_type": "markdown",
   "id": "314f683b-9065-48cb-955c-6a1c2db1aaab",
   "metadata": {},
   "source": [
    "## Exericse 1.\n",
    "\n",
    "For this exercise you will approximate the solution of an unforced mass-spring system with\n",
    "mass m =1, damping constant b = 1 and spring constant k = 2. The second order equation for this system is given by:\n",
    "\n",
    "$$x''(t) + 1x'(t) + 2x(t) = 0.$$\n",
    "\n",
    "Use the initial conditions $x(0) = 0$ and $ x'(0)=y(0) = 1$. Use the improved Euler’s method to solve the system. You will need to convert the second order equation to a system as demonstrated above. Choose a Δt=h of 0.1 and a time interval of 12 seconds. Create two plots. One showing x(t) versus time and the second showing the solution curve \"trajectory\" for the system in the xy (phase) plane.\n",
    "\n"
   ]
  },
  {
   "cell_type": "markdown",
   "id": "48d9d923-258a-49f9-b743-60bbe54ccf10",
   "metadata": {},
   "source": [
    "## Complete the code cell below to solve the sytstem."
   ]
  },
  {
   "cell_type": "code",
   "execution_count": 2,
   "id": "9d8906dc-1915-49c3-8a8a-a79633e242da",
   "metadata": {},
   "outputs": [],
   "source": [
    "# define the slope functions\n",
    "\n",
    "def f(x,y):\n",
    "    return y\n",
    "\n",
    "def g(x,y):\n",
    "    return -1*y -2*x\n",
    "\n",
    "\n",
    "h = 0.1  # set delta t\n",
    "t = np.arange(0,12,h)\n",
    "\n",
    "# Initialeze arrays to store the results.\n",
    "\n",
    "x = np.zeros_like(t)\n",
    "y = np.zeros_like(t)\n",
    "\n",
    "# Set initial conditions:\n",
    "\n",
    "x[0] = 0\n",
    "y[0] = 1\n",
    "\n",
    "# implement the Improved Euler's method\n",
    "\n",
    "# Your code goes here, look at project #2\n",
    "\n"
   ]
  },
  {
   "cell_type": "markdown",
   "id": "780b1569-aabe-4502-88db-eab12a64b318",
   "metadata": {},
   "source": [
    "### Execute the cell below to graph your results.\n",
    "You should see a damped sinusoid."
   ]
  },
  {
   "cell_type": "code",
   "execution_count": null,
   "id": "a204ff35-f80b-47b2-87c7-b2cd8eb6c02d",
   "metadata": {},
   "outputs": [],
   "source": [
    "plt.figure(figsize=(8,5))\n",
    "plt.plot(t,x)\n",
    "plt.grid()\n",
    "plt.xlabel('t')\n",
    "plt.ylabel('x');\n",
    "plt.title(\"Damping b = 1\");"
   ]
  },
  {
   "cell_type": "markdown",
   "id": "3d2e187b-a955-497c-9799-c984c8360da6",
   "metadata": {},
   "source": [
    "### Execute the cell below to see the trajectory in the phase plane for this problem. \n",
    "You should see a spiral."
   ]
  },
  {
   "cell_type": "code",
   "execution_count": null,
   "id": "db0ebc28-5a53-40c8-9fe9-93e532e57885",
   "metadata": {},
   "outputs": [],
   "source": [
    "plt.figure(figsize=(8,5))\n",
    "plt.plot(x,y,linewidth=2)\n",
    "plt.xlim(-1.5,1.5)\n",
    "plt.ylim(-1.5,1.5)\n",
    "plt.grid()\n",
    "plt.xlabel('x-displacement')\n",
    "plt.ylabel('y-velocity');\n",
    "plt.title(\"Trajectory for spring mass system b = 1\");"
   ]
  },
  {
   "cell_type": "markdown",
   "id": "dc72997c-4092-4735-b7e3-ca2aaf175310",
   "metadata": {},
   "source": [
    "### Repeat the steps above for b=3 and b=0. Copy and paste cells above and make the necessary modifications.  You should show time plots and phase plane plots for b=0 and b=3.\n"
   ]
  },
  {
   "cell_type": "code",
   "execution_count": null,
   "id": "dfc2dfad-6c40-48a8-aad6-5cc7f92cc477",
   "metadata": {},
   "outputs": [],
   "source": [
    "#Your code here"
   ]
  },
  {
   "cell_type": "markdown",
   "id": "048cc39e-eaf2-4b44-9e25-ddd933f36330",
   "metadata": {},
   "source": [
    "---\n",
    "# Exercise 2.\n",
    "\n",
    "For this exercise you will approximate the solution of an undamped periodically forced spring-mass system with mass m =1 and spring constant k = 1, no damping. The second order equation for this system is given by:\n",
    "\n",
    "$$ x''(t) + x(t) = Cos(\\omega t).$$\n",
    "\n",
    "Use the initial conditions $x(0) = 0$ and $ x'(0) = y(0) = 0$. Use the improved Euler’s method to solve the system. Note this system is not autonomous so the slope functions could depend on x,y and t.  Generate plots of $x(t)$ versus time for ω = 1.1 and ω = 1. Use a time interval of 50 seconds for $ \\omega = 1 $ and 150 seconds for $ \\omega = 1.1$. For both cases set Δt=0.1. Duplicate and modify the code above to generate the plots.  Label the plots appropriately. There are no phase plane plots for Exercise 2. "
   ]
  },
  {
   "cell_type": "code",
   "execution_count": null,
   "id": "a6147d54-2171-46ab-9a94-19d85ae74000",
   "metadata": {},
   "outputs": [],
   "source": [
    "#Your code here"
   ]
  },
  {
   "cell_type": "code",
   "execution_count": null,
   "id": "2e66328b-96c7-4454-a4c8-65316e74b475",
   "metadata": {},
   "outputs": [],
   "source": []
  },
  {
   "cell_type": "code",
   "execution_count": null,
   "id": "66acba8c-2b07-4bff-a8bd-d645497f2465",
   "metadata": {},
   "outputs": [],
   "source": []
  },
  {
   "cell_type": "markdown",
   "id": "d93b1ec8-3c14-4b34-a1cd-1a48c4dd3203",
   "metadata": {},
   "source": [
    "## Answer the questions below.  Create a text cell to enter your answers.\n",
    "1. Expain and discuss the results of exercise 1. \n",
    "2. Compute the period of oscillation for exerice 1. b=0.  Compare to value obtained from the graph.\n",
    "3. Discuss the results of exercise 2.  Hint: look at the envelopes."
   ]
  },
  {
   "cell_type": "code",
   "execution_count": null,
   "id": "77930ba2-30a5-41fa-9ecf-9c2dcda82947",
   "metadata": {},
   "outputs": [],
   "source": []
  }
 ],
 "metadata": {
  "kernelspec": {
   "display_name": "Python 3 (ipykernel)",
   "language": "python",
   "name": "python3"
  },
  "language_info": {
   "codemirror_mode": {
    "name": "ipython",
    "version": 3
   },
   "file_extension": ".py",
   "mimetype": "text/x-python",
   "name": "python",
   "nbconvert_exporter": "python",
   "pygments_lexer": "ipython3",
   "version": "3.9.11"
  }
 },
 "nbformat": 4,
 "nbformat_minor": 5
}
