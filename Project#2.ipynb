{
 "cells": [
  {
   "cell_type": "markdown",
   "id": "4fb62d13",
   "metadata": {},
   "source": [
    "<h1 style='font-size:4rem;color:orange;'>Math 267 Project #2"
   ]
  },
  {
   "cell_type": "markdown",
   "id": "e3e661db-445b-437f-8dc2-8de103f71967",
   "metadata": {},
   "source": [
    "# Dynamical Systems\n",
    "\n",
    "\n",
    "In simplest terms a Dynamical System is a point moving in space. We call this space a phase space\n",
    "and the path for the point a trajectory or orbit. The point could represent an actual particle that is moving in physical space or it could represent the instantaneous state of our Dynamical System. The trajectory thus illustrates how the system evolves with time. The evolution follows a vector field. The trajectories could be fixed points, spirals, closed loops that represent periodic behavior or the trajectory could be a chaotic orbit. In project #4 we will study chaotic orbits. In this project we investigate the predator-prey system an example of a Dynamical System. For the predator-prey system a point the phase space (the xy plane) represents the current population of the foxes and rabbits. \n",
    "\n",
    "\n",
    "---"
   ]
  },
  {
   "cell_type": "markdown",
   "id": "9d09db61",
   "metadata": {},
   "source": [
    "## Euler's method for system of odes.\n",
    "\n",
    "We consider the first-order autonomous system \n",
    "\n",
    "\n",
    "$$ x'(t) = f (x, y)$$\n",
    "$$ y'(t) = g(x, y) $$\n",
    "along with the initial conditions\n",
    "\n",
    "$$x(t_0) = x_0 $$\n",
    "$$y(t_0) = y_0 $$\n",
    "\n",
    "Notice that for the autonomous system t is not present in the slope functions f and g.\n",
    "\n",
    "We can represent the above system of equations using vector notation as follows. First some definitions.\n",
    "\n",
    "Let $\\overrightarrow{r}(t)=\\begin{bmatrix}x(t)  \\\\y(t)  \\end{bmatrix}$. $\\overrightarrow{r}(t)$ is a vector valued function defining a path curve. The velocity is given by:\n",
    "\n",
    " $$\\overrightarrow{r}'(t)=\\begin{bmatrix}x'(t)  \\\\y'(t)  \\end{bmatrix}$$.\n",
    "\n",
    "The vector valued function $ \\overrightarrow{F}(x,y) = (f (x, y), g(x, y))$ is called a vector field. So the above system can be expressed as:\n",
    "\n",
    "\n",
    "$$\\overrightarrow{r}'(t) = \\overrightarrow{F}(x,y)$$ </br>\n",
    "$$\\overrightarrow{r}(t_0)=\\begin{bmatrix}x_0  \\\\y_0  \\end{bmatrix}$$\n",
    "\n",
    "So our problem can be expressed as follows.\n",
    "\n",
    "Given the initial position and velocity for a path curve find the curve.\n",
    "\n",
    "Now we can calculate the Euler approximation for this system by iterating the formulas\n",
    "\n",
    "$$ t_{n+1} =t_n + Δt $$\n",
    "$$ x_{n+1} =x_n + f(x_n, y_n) \\Delta t$$\n",
    "$$ y_{n+1} = y_n + g(x_n, y_n) \\Delta t$$\n",
    "\n",
    "---"
   ]
  },
  {
   "cell_type": "markdown",
   "id": "97ad115f",
   "metadata": {},
   "source": [
    "## Exercise 1.  We will demonstrate how Euler's method can be used to solve the predator prey model and graph your results. The model is below.\n",
    "\n",
    "$$x' = -0.1  x + 0.02 x y $$\n",
    "$$y' = 0.2 y - 0.025xy$$\n",
    "$$ x(0) = y(0) =6 $$\n",
    "\n",
    "Note that x(t) represents the fox population at time t and y(t) represents the rabbit population. The populations are measured in thousands. Please see problem 3.3.11 in your text."
   ]
  },
  {
   "cell_type": "markdown",
   "id": "34f19d27-34af-48f4-8545-ea176b33bf61",
   "metadata": {
    "tags": []
   },
   "source": [
    "### Execute the cell below to import the necessary libraries"
   ]
  },
  {
   "cell_type": "code",
   "execution_count": null,
   "id": "52b2dd56-bdb1-4387-a8a4-30d4d328a4fb",
   "metadata": {
    "id": "f52331cb-8777-4d71-b19e-b0e890ccf61a"
   },
   "outputs": [],
   "source": [
    "# import libraries\n",
    "\n",
    "import numpy as np\n",
    "import matplotlib.pyplot as plt\n",
    "# uncomment the line below if you are running a macbook\n",
    "\n",
    "# %config InlineBackend.figure_format ='retina'"
   ]
  },
  {
   "cell_type": "markdown",
   "id": "fd10df33-afbb-4727-9cd5-6a9eaa48bf54",
   "metadata": {
    "id": "38e9983e-6752-4225-a966-a8eac52b45ca"
   },
   "source": [
    "<h3> The python code to numerically solve the above system is in the cell below. Read the code and understand each instruction.\n",
    "    Afterwards execute the cell."
   ]
  },
  {
   "cell_type": "code",
   "execution_count": null,
   "id": "96fde75e",
   "metadata": {},
   "outputs": [],
   "source": [
    "# define the slope functions\n",
    "\n",
    "def f(x,y):\n",
    "    return -0.1*x + 0.02*x*y\n",
    "\n",
    "def g(x,y):\n",
    "    return 0.2*y - 0.025*x*y\n",
    "\n",
    "\n",
    "h = 0.1  # set delta t\n",
    "\n",
    "# Discretize the domain\n",
    "\n",
    "t = np.arange(0,100,h)\n",
    "\n",
    "# Initialize arrays to store the results.\n",
    "\n",
    "x = np.zeros_like(t)\n",
    "y = np.zeros_like(t)\n",
    "\n",
    "# Set initial conditions:\n",
    "\n",
    "x[0] = y[0] = 6\n",
    "\n",
    "# implement Euler's method\n",
    "\n",
    "for i in range (len(t)-1):\n",
    "    \n",
    "    x[i+1] = x[i] + f(x[i],y[i]) * h\n",
    "    y[i+1] = y[i] + g(x[i],y[i]) * h\n",
    "    \n",
    "    \n"
   ]
  },
  {
   "cell_type": "markdown",
   "id": "ff156369-b7b1-42d8-a1c7-ad8d11aca882",
   "metadata": {},
   "source": [
    "### Execute the cell below to graph your results.\n",
    "You should note that the populations are changing periodically"
   ]
  },
  {
   "cell_type": "code",
   "execution_count": null,
   "id": "e89aa003-ae18-4951-b3a3-c354f93c63af",
   "metadata": {},
   "outputs": [],
   "source": [
    "plt.figure(figsize=(8,5))\n",
    "plt.plot(t,x,label='foxes')\n",
    "plt.plot(t,y,label='rabbits')\n",
    "plt.legend()\n",
    "plt.grid()\n",
    "plt.xlabel('time')\n",
    "plt.ylabel('population');"
   ]
  },
  {
   "cell_type": "markdown",
   "id": "b82c1f5d-5938-4bf7-a69b-cf7df4d9d549",
   "metadata": {},
   "source": [
    "### Execute the cell below to see the trajectory in the phase plane for this problem.  See chapter 10 in the text for more details on phase potraits."
   ]
  },
  {
   "cell_type": "code",
   "execution_count": null,
   "id": "084e0518-2bed-44f1-a3ae-2c82994204c1",
   "metadata": {},
   "outputs": [],
   "source": [
    "plt.figure(figsize=(8,5))\n",
    "plt.plot(x,y,linewidth=2)\n",
    "plt.xlim(-2,12)\n",
    "plt.ylim(-2,12)\n",
    "plt.grid()\n",
    "plt.xlabel('foxes')\n",
    "plt.ylabel('rabbits');"
   ]
  },
  {
   "cell_type": "markdown",
   "id": "ea871b41-c3ad-4e68-8abd-2007ae058c4d",
   "metadata": {},
   "source": [
    "---\n",
    "## Exercise 2. Improved Euler’s Method for Systems\n",
    "\n",
    "\n",
    "From the discussion above we can readily see how to apply the Improved Euler’s method to the first order autonomous system of equations. All that is required is that we iterate the following formulas.\n",
    "\n",
    "$$t_{n+1} =t_n + Δt$$\n",
    "$$F1 =f(x_n,y_n)$$\n",
    "$$G1 = g(x_n, y_n)$$\n",
    "$$F2 =f(x_n +F1*Δt, y_n +G1*Δt)$$ \n",
    "$$G2 =g(x_n +F1*Δt, y_n +G1*Δt)$$\n",
    "$$x_{n+1} =x_n + (F1 +F2)/2*Δt$$\n",
    "$$y_{n+1} =y_n +(G1 + G2)/2*Δt$$"
   ]
  },
  {
   "cell_type": "markdown",
   "id": "47d86482-b970-425e-af33-b2b35bd03f14",
   "metadata": {},
   "source": [
    "Redo the exercise above now using the improved Euler's method.  With the improved method h = 1 will work and you only need to compute 100 values.  So the following command will create your t array. Cut and past the cells above to recreate the plots.  You will know your solution is correct if your phase potrait shows a closed loop instead of a spiral.\n",
    "\n",
    "```python\n",
    "t = np.arange(0,100)\n",
    "\n",
    "```"
   ]
  },
  {
   "cell_type": "code",
   "execution_count": null,
   "id": "705d7d90-3f79-4891-9b58-42ed9c773102",
   "metadata": {},
   "outputs": [],
   "source": [
    "# Your code here to implement the improved euler method"
   ]
  },
  {
   "cell_type": "code",
   "execution_count": null,
   "id": "fc2abd3a-c80d-40a5-9da4-8db68e08a5cc",
   "metadata": {},
   "outputs": [],
   "source": [
    "# Your code here to create a plot of fox and rabbit population versus time."
   ]
  },
  {
   "cell_type": "code",
   "execution_count": null,
   "id": "d882a741-6675-4e68-94b2-e00c1e935f58",
   "metadata": {},
   "outputs": [],
   "source": [
    "# Your code here to create a plot of the trajectory in the phase plane."
   ]
  },
  {
   "cell_type": "code",
   "execution_count": null,
   "id": "10c6b2bc-82a5-4a82-9c7f-f90072317d7b",
   "metadata": {},
   "outputs": [],
   "source": []
  },
  {
   "cell_type": "markdown",
   "id": "031e2fbd-7887-4b99-84dc-960366eeba93",
   "metadata": {},
   "source": [
    "---\n",
    "### Go to Gradescope to answer the questions.\n",
    "---"
   ]
  },
  {
   "cell_type": "markdown",
   "id": "05739606-eb2f-463d-aa39-bfec05a03715",
   "metadata": {},
   "source": [
    "1. The population for the foxes is periodic. Determine the period.\n",
    "\n",
    "2. Find the value of t for t>0 where the populations are first equal.\n",
    "\n",
    "3. Find all equilibrium solutions for the predator prey model.  Hint: set the vector field equation to zero and solve for x and y.  There are two equilibrium solutions ( points in the plane where the \"cork\" will not move.)\n",
    "\n",
    "4. Why is the trajectory in the phase plane a spiral when using Euler's method and not a closed loop as you find for the improved method?\n",
    "\n",
    "5. Extra credit.  Look at chapter 10 and classify the two equilibrium points.  \n"
   ]
  },
  {
   "cell_type": "code",
   "execution_count": null,
   "id": "7d4fef50-3b76-4c8b-bae4-165112ec9168",
   "metadata": {},
   "outputs": [],
   "source": []
  }
 ],
 "metadata": {
  "kernelspec": {
   "display_name": "Python 3 (ipykernel)",
   "language": "python",
   "name": "python3"
  },
  "language_info": {
   "codemirror_mode": {
    "name": "ipython",
    "version": 3
   },
   "file_extension": ".py",
   "mimetype": "text/x-python",
   "name": "python",
   "nbconvert_exporter": "python",
   "pygments_lexer": "ipython3",
   "version": "3.9.11"
  }
 },
 "nbformat": 4,
 "nbformat_minor": 5
}
