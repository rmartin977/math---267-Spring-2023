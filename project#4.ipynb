{
 "cells": [
  {
   "cell_type": "markdown",
   "id": "c0c87fc5-ff03-4f47-9c05-230c74cb7965",
   "metadata": {},
   "source": [
    "<h1 style='font-size:4rem;color:orange;'>Math 267 Project #4"
   ]
  },
  {
   "cell_type": "markdown",
   "id": "d529b4b3-f110-4ca8-a472-9cd325237671",
   "metadata": {},
   "source": [
    "# Dynamical Systems\n",
    "\n",
    "\n",
    "In simplest terms a Dynamical System is a point moving in space. We call this space a phase space\n",
    "and the path for the point a trajectory or orbit. The point could represent an actual particle that is moving in physical space or it could represent the instantaneous state of our Dynamical System. The trajectory thus illustrates how the system evolves with time. The evolution follows a vector field. The trajectories could be fixed points, spirals, closed loops that represent periodic behavior or the trajectory could be a chaotic orbit. Both the predator-prey system and the mass-spring system are examples of Dynamical Systems. For the predator-prey system a point the phase space (the xy plane) represents the current population of the foxes and rabbits. For the mass spring system a point represents the current position and velocity of the mass. Thus for this case the instantaneous energy in the system is a function of the point. More on this later..\n",
    "\n",
    "---"
   ]
  },
  {
   "cell_type": "markdown",
   "id": "1d1e14d4-a832-4b33-98f3-96ca04361620",
   "metadata": {
    "tags": []
   },
   "source": [
    "# The Pendulum\n",
    "\n",
    "The equation of motion for a driven damped pendulum with mass 1 and arm length 1 is:\n",
    "\n",
    "$$ \\theta''(t) + b\\; \\theta'(t) + g \\sin(\\theta) = A \\sin(\\omega_f  t)$$\n",
    "\n",
    "where $\\theta$ is the angular displacement for the pendulum. The forcing term is a sinusoidal driving force with an amplitude of A and a period of $2 \\pi / \\omega_f$. We derive this equation in class. Please refer to your text for further details. It is assumed that the pendulum is attached to a wall such that it is free to rotate through 360 degrees, thus $\\omega + 2\\pi$ and $\\omega$ correspond to the same pendulum position. We can reduce this second order equation to a system by introducing the variable $\\omega = \\theta’$ , where $\\omega$ represents the angular velocity for the pendulum motion. For convenience let us assume that units are chosen so that g = 1. The system is written as:\n",
    "\n",
    "\\begin{align}\n",
    "\\theta'(t) &=  \\; \\omega(t) \\\\\n",
    "\\omega'(t) &= -b \\omega(t) + A \\sin(\\omega_ft)\n",
    "\\end{align} \n",
    "\n",
    "\n"
   ]
  },
  {
   "cell_type": "markdown",
   "id": "fcc77891-7bd6-48bb-8a59-86d26dd9a490",
   "metadata": {},
   "source": [
    "## 1. The unforced and undamped Pendulum.\n",
    "\n",
    "For the case where there is both no damping or external forcing, the equation for the pendulum\n",
    "becomes:\n",
    "\n",
    "$$\\theta'(t) + \\sin(\\theta) = 0$$\n",
    "\n",
    "\n",
    "This equation while simple in appearance cannot be solve analytically. For small $\\theta$ we could use the small angle approximation, namely $\\sin(\\theta) ≈\\theta$, and the equation becomes linear. Otherwise numerical methods are required to solve the system. We can however get an idea of what the solutions should look like. With no damping or means to dissipate the energy, the energy E will be constant along all solutions of the system. The total energy in the system, the potential and kinetic energy, is given by the energy function:\n",
    "\n",
    "$$E(\\theta,\\omega) = \\frac{1}{2} \\omega^2 + 1 - \\cos(\\theta)$$.\n",
    "\n",
    "\n",
    "Each trajectory in the phase plane is confined to one or another of the level curves for the energy function. So by plotting the contour map for the energy function we get an idea of what the trajectories should look like. A plot of the contour map for the energy function is shown in the figure below. If we add directions to the level curves we have a phase portrait for the pendulum system. Note that only a unique trajectory can pass through each point in the phase plane. Why?\n"
   ]
  },
  {
   "cell_type": "markdown",
   "id": "029f3087-cf34-4962-8e77-47aaa5b0d6d8",
   "metadata": {},
   "source": [
    "<img src = \"https://github.com/rmartin977/math---267-Spring-2022/blob/main/c.png?raw=true\"  style = \"width:300px;height:300px\">"
   ]
  },
  {
   "cell_type": "markdown",
   "id": "decf5103-74df-4328-aa0f-03af934ba277",
   "metadata": {},
   "source": [
    "To determine the direction for these trajectories we simply look at the vector field for the system. Writing the unforced, undamped equation as a system gives\n",
    "\n",
    "\\begin{align}\n",
    "\\theta'(t) &=  \\; f(\\theta, \\omega) =\\omega \\\\\n",
    "\\omega'(t) &= \\;g(\\theta,\\omega)= -\\sin(\\omega).\n",
    "\\end{align} \n",
    "\n",
    "\n",
    "So our vector field is:\n",
    "\n",
    "$$\\mathbf{F}(θ,ω) = (f(θ,ω),g(θ,ω)) = (ω,-sin(θ)).$$\n",
    "\n",
    "Evaluating the vector field at the point (0,1) gives $F(0,1) = (1,0)$ and the trajectory is thus pointing to the right at this point meaning that $\\theta$ is increasing. Repeating this for other points in the phase plane allows us to attach direction arrows to the contour curves. The phase portrait for the undamped pendulum is shown in the figure below.\n"
   ]
  },
  {
   "cell_type": "markdown",
   "id": "4ab883aa-ab37-441e-b0f4-b7ee7ab4fded",
   "metadata": {},
   "source": [
    "<img src = \"https://github.com/rmartin977/math---267-Spring-2022/blob/main/cc.png?raw=true\"  style = \"width:300px;height:300px\">"
   ]
  },
  {
   "cell_type": "markdown",
   "id": "dbf4e9e5-3131-48b2-b4f2-4dccbf4b30ed",
   "metadata": {},
   "source": [
    "The solution curves encircling the origin where $-π < θ(t) < π$ correspond to the pendulum oscillating about the downward rest position. The solution curve at the top of the phase portrait corresponds to the pendulum spinning forever in the clockwise direction. The opposite is true for the trajectory at the bottom of the phase portrait.\n",
    "\n",
    "---"
   ]
  },
  {
   "cell_type": "markdown",
   "id": "deb9c2ac-77a4-4bc3-8d62-a8fb12c166be",
   "metadata": {
    "tags": []
   },
   "source": [
    "## 2. The unforced and damped Pendulum\n",
    "\n",
    "\n",
    "For the case where there is damping but no external forcing, the equations for the pendulum becomes:\n",
    "\n",
    "\\begin{align}\n",
    "\\theta'(t) &=  \\; f(\\theta, \\omega) =\\omega \\\\\n",
    "\\omega'(t) &= \\;g(\\theta,\\omega)= -\\sin(\\theta)-b\\omega.\n",
    "\\end{align} \n",
    "\n",
    "The equilibrium points for this plane autonomous system are determined by setting:\n",
    "\n",
    "$$\\mathbf{F}(θ, ω) = 0 \\;or f (θ, ω) = g(θ, ω) = 0$$\n",
    "\n",
    "Solving gives the points (0, 0) and (0, π).\n",
    "\n",
    "These points correspond to the pendulum being positioned either in the downward rest position or straight up (θ=π). To determine the stability of these points we need to linearize the system by computing the Jacobian matrix. See 10.3 in the text for further information on the Jacobian. The Jacobian matrix A for the system is defined as a matrix of partial derivatives.\n",
    "\n",
    "\n",
    "\n",
    "\\begin{align} A=             \n",
    "        \\begin{pmatrix}\n",
    "        \\frac{\\partial}{\\partial \\theta}f(\\theta,\\omega)\n",
    "         & \\frac{\\partial}{\\partial \\omega}f(\\theta,\\omega)\\\\\n",
    "        \\frac{\\partial}{\\partial \\theta}g(\\theta,\\omega)\n",
    "         & \\frac{\\partial}{\\partial \\omega}g(\\theta,\\omega)\n",
    "         \\end{pmatrix}\n",
    "        \\end{align}\n",
    "        \n",
    "        \n",
    "For the undriven, damped pendulum system the Jacobian is:\n",
    "        \n",
    "\\begin{align} A=             \n",
    "        \\begin{pmatrix}\n",
    "        0 & 1\\\\\n",
    "        -\\cos(\\theta)\n",
    "         & -b\n",
    "         \\end{pmatrix}\n",
    "        \\end{align}\n",
    "        \n",
    "Now to determine the stability of an equilibrium point, the Jacobian is evaluated at that point and the eigenvalues are tested. For example, for the equilibrium point (0,0) (the rest position) the linearized system is:\n",
    "\n",
    "\\begin{align}\n",
    "        \\begin{pmatrix}\n",
    "        \\theta'(t) \\\\\n",
    "        \\omega'(t) \n",
    "        \\end{pmatrix}=       \n",
    "        \\begin{pmatrix}\n",
    "        0 & 1 \\\\\n",
    "        -1 & -b \n",
    "        \\end{pmatrix}\\cdot\n",
    "        \\begin{pmatrix}\n",
    "        \\theta(t) \\\\\n",
    "        \\omega(t) \n",
    "        \\end{pmatrix}\n",
    "\\end{align}\n",
    "\n",
    "With a damping constant b = 0, the eigenvalues are pure imaginary and the origin is a “center” thus the trajectories will be closed loops with the origin as their center. For b>0 both eigenvalues will have negative real parts and the point (0,0) will be an attractor. Which is what we expect.\n",
    "\n",
    "---\n"
   ]
  },
  {
   "cell_type": "markdown",
   "id": "78ff1fb6-3b24-4f70-b96c-026f78b0d28f",
   "metadata": {
    "tags": []
   },
   "source": [
    "## 3. The forced and damped Pendulum\n",
    "\n",
    "\n",
    "For the case where there is damping and external forcing, the equations for the pendulum becomes:\n",
    "\n",
    "\\begin{align}\n",
    "\\theta'(t) &=\\omega \\\\\n",
    "\\omega'(t) &= \\; -\\sin(\\theta)-b\\omega + A \\sin(\\omega_f t).\n",
    "\\end{align} \n",
    "\n",
    "This is where things get interesting and we will see that for certain parameter values the pendulum will exhibit chaotic behavior. Sensitive dependence on initial conditions is a hallmark of chaos. The plot below shows the response of a pendulum to the following initial conditions. For s(t) the initial angular displacement θ(0) = 0 and for u(t) the initial displacement is θ(0) = 0.001. We notice the curves diverge considerably after about 40 seconds. This is sensitive dependence on initial conditions."
   ]
  },
  {
   "cell_type": "markdown",
   "id": "48ba75dc-1913-460a-bfee-984db32b3dec",
   "metadata": {},
   "source": [
    "<img src = \"https://github.com/rmartin977/math---267-Spring-2022/blob/main/chaos.png?raw=true\"  style = \"width:400px;height:350px\">\n",
    "\n",
    "---"
   ]
  },
  {
   "cell_type": "markdown",
   "id": "5dba2add-a7a1-450a-9f69-b21220848100",
   "metadata": {},
   "source": [
    "### Run the cell below to import necessary libraries."
   ]
  },
  {
   "cell_type": "code",
   "execution_count": 1,
   "id": "5d1270c8-3e15-4539-ac95-61da218564c9",
   "metadata": {
    "id": "f52331cb-8777-4d71-b19e-b0e890ccf61a"
   },
   "outputs": [],
   "source": [
    "# import libraries\n",
    "\n",
    "import numpy as np\n",
    "from numpy import sin,pi\n",
    "import matplotlib.pyplot as plt\n",
    "from IPython.display import Image\n",
    "\n",
    "# uncomment the line below if you are running a macbook\n",
    "#%config InlineBackend.figure_format ='retina'"
   ]
  },
  {
   "cell_type": "markdown",
   "id": "c716007a-3e1c-4038-b367-cd643a252787",
   "metadata": {
    "jp-MarkdownHeadingCollapsed": true,
    "tags": []
   },
   "source": [
    "## Exericse 1.a\n",
    "\n",
    "For this exercise you will approximate the solution of an unforced, undamped pendulum defined by the system:\n",
    "\n",
    "\\begin{align}\n",
    "\\theta'(t) &=  \\;  \\omega \\\\\n",
    "\\omega'(t) &= \\; -\\sin(\\theta).\n",
    "\\end{align} \n",
    "\n",
    "You are to create two plots of $\\theta$ versus t. For the first plot solve the sytem with initial condition:\n",
    "\n",
    "$$\n",
    "\\begin{align}\n",
    "\\theta(0) &=  \\;0.1 \\\\\n",
    "\\omega(0) &= \\; 0\n",
    "\\end{align} \n",
    "$$\n",
    "\n",
    "For the second plot solve the system with the initial conditions:\n",
    "\n",
    "$$\n",
    "\\begin{align}\n",
    "\\theta(0) &=  \\;1 \\\\\n",
    "\\omega(0) &= \\; 0\n",
    "\\end{align} \n",
    "$$\n",
    "\n",
    "Use the improved Euler method( Δt=h = 0.1) and a time interval of 12 seconds.\n"
   ]
  },
  {
   "cell_type": "markdown",
   "id": "74eb6963-f4d0-45bf-bc70-738cfba84191",
   "metadata": {
    "tags": []
   },
   "source": [
    "## Complete the code cell below to solve the sytstem."
   ]
  },
  {
   "cell_type": "code",
   "execution_count": 2,
   "id": "82ae1b5c-ed44-418d-bc6c-b8b105e1b5c5",
   "metadata": {},
   "outputs": [],
   "source": [
    "# define the slope functions\n",
    "\n",
    "def f(theta,omega,t=None):\n",
    "    return omega\n",
    "\n",
    "def g(theta,omega,t=None):\n",
    "    return -np.sin(theta)\n",
    "\n",
    "\n",
    "h = 0.1  # set delta t\n",
    "t = np.arange(0,12,h)\n",
    "\n",
    "# Initialize arrays to store the results.\n",
    "\n",
    "theta = np.zeros_like(t)\n",
    "omega = np.zeros_like(t)\n",
    "\n",
    "# Set initial conditions:\n",
    "\n",
    "theta[0] = 0\n",
    "omega[0] = 0.1\n",
    "\n",
    "# implement the Improved Euler's method\n",
    "\n",
    "# Your code goes here, look at project #2"
   ]
  },
  {
   "cell_type": "markdown",
   "id": "fd4e19be-189f-4ea3-b04b-ffd7cd381b5d",
   "metadata": {},
   "source": [
    "### Execute the cell below to graph your results.\n",
    "You should see a  sinusoid as the pendulum is set into infinite oscillation (no damping)."
   ]
  },
  {
   "cell_type": "code",
   "execution_count": null,
   "id": "9e81bc55-7a5f-4e89-8f62-2a2344400f0e",
   "metadata": {},
   "outputs": [],
   "source": [
    "plt.figure(figsize=(8,5))\n",
    "plt.plot(t,theta)\n",
    "plt.grid()\n",
    "plt.xlabel('t')\n",
    "plt.ylabel(r'$\\theta$');\n",
    "plt.plot(2*np.pi,0,'o')\n",
    "plt.title(r\"Exercise #1a. $\\theta(0)=0\\;,\\omega(0)=0.1$\");"
   ]
  },
  {
   "cell_type": "markdown",
   "id": "77c9b459-ee98-4f0f-ad80-de334221b5f9",
   "metadata": {
    "tags": []
   },
   "source": [
    "### Execute the cell below to graph the trajectory in the phase plane.\n",
    "You should see a  small circle as the pendulum is set into infinite oscillation (no damping)."
   ]
  },
  {
   "cell_type": "code",
   "execution_count": null,
   "id": "b5dcc849-8066-4512-a5f8-c501a8c49031",
   "metadata": {},
   "outputs": [],
   "source": [
    "plt.figure(figsize=(8,5))\n",
    "plt.plot(theta,omega,linewidth=2)\n",
    "plt.xlim(-2*pi,2*pi)\n",
    "plt.ylim(-4,4)\n",
    "plt.grid()\n",
    "plt.xlabel(r'$\\theta$-displacement')\n",
    "plt.ylabel(r'$\\omega$');\n",
    "plt.xticks([-2*pi,-pi,0,pi,2*pi],['-2$\\pi$','$-\\pi$',0,'$\\pi$','$2\\pi$'])\n",
    "plt.title(r\"Trajectory for pendulum-Exercise #1a. $\\theta(0)=0\\;,\\omega(0)=0.1$\");"
   ]
  },
  {
   "cell_type": "markdown",
   "id": "d97bae46-452d-4905-85e3-086d85eb8a93",
   "metadata": {},
   "source": [
    " ## Exercise 1.b\n",
    " \n",
    " Repeat the steps above for $\\theta(0)=0 \\;\\text{and}\\; \\omega(0) = 1.0$ Copy and paste cells above and make the necessary modifications. Make a plot of $\\theta$ versus t. Also plot the trajectory in the phase plane. Make the appropriate change to the title of your plot.\n"
   ]
  },
  {
   "cell_type": "code",
   "execution_count": null,
   "id": "e375ff92-7933-451a-96cb-e4c476899793",
   "metadata": {},
   "outputs": [],
   "source": []
  },
  {
   "cell_type": "code",
   "execution_count": null,
   "id": "ae812556-1053-4a2d-9b3e-38d22c6cb047",
   "metadata": {},
   "outputs": [],
   "source": []
  },
  {
   "cell_type": "markdown",
   "id": "ee31bd36-1049-4201-8d9f-ce06b83030a1",
   "metadata": {},
   "source": [
    "## Exericse 2.\n",
    "\n",
    "Use the improved Euler’s method to approximate and graph the solution of the above system with the initial conditions θ(0) = 0 and ω(0) =2.5. Create a θ versus t and a phase plot. Your $\\theta$ versus t plot will not be a sinusoid. Again plot your results for the interval [0,12]. \n"
   ]
  },
  {
   "cell_type": "code",
   "execution_count": null,
   "id": "c0811e0b-cd29-41b8-b7b3-632edf65f48d",
   "metadata": {},
   "outputs": [],
   "source": []
  },
  {
   "cell_type": "code",
   "execution_count": null,
   "id": "b2ccb703-0e95-46c0-a05b-55cad76b9483",
   "metadata": {},
   "outputs": [],
   "source": []
  },
  {
   "cell_type": "markdown",
   "id": "de89ca34-c0ed-4a32-a8e8-b07e741a0f28",
   "metadata": {},
   "source": [
    "## Exercise 3.\n",
    "\n",
    "Use the improved Euler’s method to approximate and graph the solution of the above system with a damping constant of b = 0.5. Use the initial conditions θ(0) = 1 and ω(0) =0. Create a θ versus t plot\n",
    "and a phase plot θ versus ω. Give each plot the following title: \"Exercise #3 damped pendulum b=0.5\"."
   ]
  },
  {
   "cell_type": "code",
   "execution_count": null,
   "id": "1175f6e4-1e37-4f9c-8a29-7e0834da7110",
   "metadata": {},
   "outputs": [],
   "source": [
    "# Your code here."
   ]
  },
  {
   "cell_type": "code",
   "execution_count": null,
   "id": "ff408710-27a3-4ea3-a9d4-b3217742e6b2",
   "metadata": {},
   "outputs": [],
   "source": []
  },
  {
   "cell_type": "code",
   "execution_count": null,
   "id": "bb092ab0-eb59-4608-8c4c-134acde02e78",
   "metadata": {},
   "outputs": [],
   "source": []
  },
  {
   "cell_type": "markdown",
   "id": "b9d4ab24-4f05-4c14-9493-afae2e957e0f",
   "metadata": {
    "jp-MarkdownHeadingCollapsed": true,
    "tags": []
   },
   "source": [
    "## Exercise 4\n",
    "\n",
    "In the following exercises we will approximate and graph the solutions for the forced,damped pendulum system with different damping constants. For each exercise we use  A = 1.5, ωf = 2/3, and initial condition (θ(0) ,ω(0)) = (0,0)."
   ]
  },
  {
   "cell_type": "markdown",
   "id": "b1a4a2ee-cb29-453b-92f1-e4187beb3c35",
   "metadata": {
    "tags": []
   },
   "source": [
    "## Exercise 4.a      \n",
    "\n",
    "\n",
    "Use the improved Euler method to solve the system with b = 0.8, h= Δt=0.1 and time interval of \\[0,90]. Make a $\\theta$ versus t plot and a phase plot. Give your graphs appropriate titles.\n",
    "\n",
    "Note: When creating the phase plot we want to omit the transient from the plot and only view the steady state response.  This can be accomplished by plotting just the last third of our data values as follows:\n",
    "\n",
    "```python\n",
    "\n",
    "plt.plot(theta[600:900],omega[600:900],linewidth=1)\n",
    "\n",
    "```\n",
    "\n",
    "Also note a line width of 1 is recommended for the phase plot."
   ]
  },
  {
   "cell_type": "code",
   "execution_count": 7,
   "id": "89a31abd-8845-45e3-b222-c82de30e3127",
   "metadata": {},
   "outputs": [],
   "source": [
    "# define the slope functions\n",
    "\n",
    "b=0.8\n",
    "\n",
    "def f(theta,omega,t):\n",
    "    return omega\n",
    "\n",
    "def g(theta,omega,t):\n",
    "    return -np.sin(theta) -b*omega + 1.5*np.sin(2/3*t)\n",
    "\n",
    "# Your code starts here....\n",
    "\n"
   ]
  },
  {
   "cell_type": "markdown",
   "id": "ffcdb516-6d43-408c-8b0b-7be25ad550a7",
   "metadata": {},
   "source": [
    "### Execute the cell below to graph your results.\n"
   ]
  },
  {
   "cell_type": "code",
   "execution_count": null,
   "id": "25691ad4-d7bd-4aff-9bd1-867a42fd2134",
   "metadata": {},
   "outputs": [],
   "source": [
    "plt.figure(figsize=(8,5))\n",
    "plt.plot(t,theta)\n",
    "plt.grid()\n",
    "plt.xlabel('t')\n",
    "plt.ylabel(r'$\\theta$');\n",
    "plt.title(r\"Exercise #4a. b =0.8\");"
   ]
  },
  {
   "cell_type": "markdown",
   "id": "05148e8e-df0a-4c2e-b74c-f5caa6928610",
   "metadata": {},
   "source": [
    "### Execute the cell below to see the trajectory in the phase plane for this problem. \n"
   ]
  },
  {
   "cell_type": "code",
   "execution_count": null,
   "id": "7efe1eb6-ae9e-42e2-add6-790986ca248a",
   "metadata": {},
   "outputs": [],
   "source": [
    "plt.figure(figsize=(10,7))\n",
    "plt.plot(theta[600:900],omega[600:900],linewidth=1)\n",
    "plt.xlim(-2*pi,2*pi)\n",
    "plt.ylim(-4,4)\n",
    "plt.grid()\n",
    "plt.xlabel(r'$\\theta$-displacement')\n",
    "plt.ylabel(r'$\\omega$');\n",
    "plt.xticks([-2*pi,-pi,0,pi,2*pi],['-2$\\pi$','$-\\pi$',0,'$\\pi$','$2\\pi$'])\n",
    "plt.title(r\"Exercise #4a. b =0.8\");"
   ]
  },
  {
   "cell_type": "markdown",
   "id": "92ac8b07-3379-4328-a285-760e9bc3c6df",
   "metadata": {
    "tags": []
   },
   "source": [
    "## Exercise 4.b\n",
    "\n",
    "Change b = 0.735 and repeat the steps above. Use h = 0.1 and a time interval of \\[0,90]."
   ]
  },
  {
   "cell_type": "code",
   "execution_count": null,
   "id": "009023e6-5a01-4e76-a7a8-8b2f92bc7a39",
   "metadata": {},
   "outputs": [],
   "source": [
    "# Place your code here to solve the system in this cell."
   ]
  },
  {
   "cell_type": "code",
   "execution_count": null,
   "id": "ba0da9b8-4e31-4118-aa53-4fc54449b412",
   "metadata": {},
   "outputs": [],
   "source": [
    "# Place your code here to make a theta versus t plot in this cell."
   ]
  },
  {
   "cell_type": "markdown",
   "id": "72bc6cda-59da-4134-a45e-146a864a4dc7",
   "metadata": {},
   "source": [
    "### Execute the cell below to see the trajectory in the phase plane for this problem. \n"
   ]
  },
  {
   "cell_type": "code",
   "execution_count": null,
   "id": "88ac6828-cfa7-4d6b-974a-4341e2f71dad",
   "metadata": {},
   "outputs": [],
   "source": [
    "plt.figure(figsize=(10,7))\n",
    "plt.plot(theta[600:900],omega[600:900],linewidth=1)\n",
    "plt.xlim(-2*pi,2*pi)\n",
    "plt.ylim(-4,4)\n",
    "plt.grid()\n",
    "plt.xlabel(r'$\\theta$-displacement')\n",
    "plt.ylabel(r'$\\omega$');\n",
    "plt.xticks([-2*pi,-pi,0,pi,2*pi],['-2$\\pi$','$-\\pi$',0,'$\\pi$','$2\\pi$'])\n",
    "plt.title(r\"Exercise #4b. b =0.735\");"
   ]
  },
  {
   "cell_type": "markdown",
   "id": "0dbdd311-db7a-43fd-80bb-6697ae90590c",
   "metadata": {},
   "source": [
    "## Exercise 5.\n",
    "\n",
    "Write the necessary code to  recreate the plot that demonstrates sensive dependence on intial condtions. See \\#3 above The plot labeled s(t) has an initial value of 0.0 and u(t) has intial value of 0.001. The sinusoid input has an amplitude of 1 and omega = 2/3. The damping for the spring is 0.05. Plot the output for the range (0,80). \n",
    "\n",
    "For this exercise you will be solving the system twice.  Just cut and past code above make the necessary modificatons and in the last line of the cell enter the Python \n",
    "command.\n",
    "\n",
    "```python\n",
    "s=theta;\n",
    "\n",
    "```\n",
    "Do the same for a second cell and again end with the command:\n",
    "\n",
    "```python\n",
    "u=theta;\n",
    "\n",
    "```"
   ]
  },
  {
   "cell_type": "code",
   "execution_count": null,
   "id": "55d440b1-acbf-4d09-b8b7-a62b215aef8a",
   "metadata": {},
   "outputs": [],
   "source": [
    "# Your code here."
   ]
  },
  {
   "cell_type": "code",
   "execution_count": null,
   "id": "cc55120f-b30b-4670-9763-850a596fce22",
   "metadata": {},
   "outputs": [],
   "source": [
    "# Your code here."
   ]
  },
  {
   "cell_type": "markdown",
   "id": "e3b38e10-b18a-4673-8ddb-e073a039f0d9",
   "metadata": {},
   "source": [
    "### Execute the cell below to see a plot of your results\n"
   ]
  },
  {
   "cell_type": "code",
   "execution_count": null,
   "id": "033a7f0c-c188-49e6-a91a-d7ac5ee575ba",
   "metadata": {},
   "outputs": [],
   "source": [
    "plt.figure(figsize=(8,5))\n",
    "plt.plot(t,s,label=\"$s(t)$\")\n",
    "plt.plot(t,u,label=\"$u(t)$\")\n",
    "plt.grid()\n",
    "plt.xlabel('t')\n",
    "plt.legend()\n",
    "plt.title(r\"Exercise #5\");"
   ]
  },
  {
   "cell_type": "markdown",
   "id": "4d6dde8e-8b89-421b-ac54-a512eb41a5be",
   "metadata": {
    "tags": []
   },
   "source": [
    "## Go to GradeScope and answer the questions.  \n"
   ]
  }
 ],
 "metadata": {
  "kernelspec": {
   "display_name": "Python 3 (ipykernel)",
   "language": "python",
   "name": "python3"
  },
  "language_info": {
   "codemirror_mode": {
    "name": "ipython",
    "version": 3
   },
   "file_extension": ".py",
   "mimetype": "text/x-python",
   "name": "python",
   "nbconvert_exporter": "python",
   "pygments_lexer": "ipython3",
   "version": "3.9.11"
  }
 },
 "nbformat": 4,
 "nbformat_minor": 5
}
